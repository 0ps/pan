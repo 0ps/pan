{
 "cells": [
  {
   "cell_type": "code",
   "execution_count": 2,
   "metadata": {},
   "outputs": [],
   "source": [
    "# 爬百度网盘文件ico\n",
    "import requests\n",
    "import os"
   ]
  },
  {
   "cell_type": "code",
   "execution_count": 16,
   "metadata": {},
   "outputs": [
    {
     "data": {
      "text/plain": [
       "<Response [200]>"
      ]
     },
     "execution_count": 16,
     "metadata": {},
     "output_type": "execute_result"
    }
   ],
   "source": [
    "base_url = 'https://pan.baidu.com'\n",
    "file = open('link.txt','r')\n",
    "lines = file.readlines()\n",
    "for line in lines:\n",
    "    if('url' in line):\n",
    "        url = base_url+line[line.find('url(')+4:line.find(')')]\n",
    "        img = requests.get(url)\n",
    "        if(ret.status_code==200):\n",
    "            filename = 'ret/'+url[url.rfind('/')+1:url.find('_')]+'.png'\n",
    "            f = open(filename,'wb')\n",
    "            f.write(img.content)\n",
    "            f.close()"
   ]
  },
  {
   "cell_type": "code",
   "execution_count": 14,
   "metadata": {},
   "outputs": [],
   "source": [
    "aaa='https://pan.baidu.com/box-static/file-widget-1/common/BT_54_6238b9c.png'\n",
    "ret = requests.get(aaa)\n",
    "filename = aaa[aaa.rfind('/')+1:aaa.find('_')]+'.png'\n",
    "if(ret.status_code==200):\n",
    "    f = open(filename,'wb')\n",
    "    f.write(ret.content)\n",
    "    f.close()"
   ]
  },
  {
   "cell_type": "code",
   "execution_count": 11,
   "metadata": {},
   "outputs": [
    {
     "name": "stdout",
     "output_type": "stream",
     "text": [
      "BT\n"
     ]
    }
   ],
   "source": [
    "aaa='https://pan.baidu.com/box-static/file-widget-1/common/BT_54_6238b9c.png'\n",
    "filename = aaa[aaa.rfind('/')+1:aaa.find('_')]+'.png'\n",
    "print(filename)"
   ]
  }
 ],
 "metadata": {
  "kernelspec": {
   "display_name": "Python 3",
   "language": "python",
   "name": "python3"
  },
  "language_info": {
   "codemirror_mode": {
    "name": "ipython",
    "version": 3
   },
   "file_extension": ".py",
   "mimetype": "text/x-python",
   "name": "python",
   "nbconvert_exporter": "python",
   "pygments_lexer": "ipython3",
   "version": "3.7.0"
  }
 },
 "nbformat": 4,
 "nbformat_minor": 2
}
